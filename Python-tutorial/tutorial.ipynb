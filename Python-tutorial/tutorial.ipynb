{
 "cells": [
  {
   "cell_type": "code",
   "execution_count": 1,
   "metadata": {},
   "outputs": [
    {
     "name": "stdout",
     "output_type": "stream",
     "text": [
      "[1, 1, 2, 3, 6, 8, 10]\n",
      "[1, 2, 3]\n"
     ]
    }
   ],
   "source": [
    "def quicksort(arr):\n",
    "    if len(arr) < 1:\n",
    "        return arr\n",
    "    pivot = arr[len(arr) // 2]\n",
    "    left = [x for x in arr if x < pivot]\n",
    "    middle = [x for x in arr if x == pivot]\n",
    "    right = [x for x in arr if x > pivot]\n",
    "    return quicksort(left) + middle + quicksort(right)\n",
    "print (quicksort([3,6,8,10,1,2,1]))\n",
    "\n",
    "print ([1,2]+[3])"
   ]
  },
  {
   "cell_type": "markdown",
   "metadata": {},
   "source": [
    "## Basic data types"
   ]
  },
  {
   "cell_type": "code",
   "execution_count": 2,
   "metadata": {},
   "outputs": [
    {
     "name": "stdout",
     "output_type": "stream",
     "text": [
      "<class 'float'>\n",
      "5.0 6.25\n",
      "Hello\n",
      "HELLO\n",
      "  hello\n",
      " hello \n",
      "he(ell)(ell)o\n",
      "world\n"
     ]
    }
   ],
   "source": [
    "x = 2.5 \n",
    "print (type(x))\n",
    "print (x * 2, x **2)\n",
    "\n",
    "t = True\n",
    "f = False\n",
    "# and or not !=\n",
    "\n",
    "s = \"hello\"\n",
    "print (s.capitalize())\n",
    "print (s.upper())\n",
    "print (s.rjust(7))\n",
    "print (s.center(7))\n",
    "print (s.replace('l', '(ell)'))\n",
    "print (' world'.strip())"
   ]
  },
  {
   "cell_type": "markdown",
   "metadata": {},
   "source": [
    "## Containers"
   ]
  },
  {
   "cell_type": "code",
   "execution_count": 3,
   "metadata": {},
   "outputs": [
    {
     "name": "stdout",
     "output_type": "stream",
     "text": [
      "2\n",
      "[3, 1, 2, 'bar']\n",
      "bar [3, 1, 2]\n",
      "[0, 1, 2, 3, 4]\n",
      "#1: cat\n",
      "#2: dog\n",
      "#3: mokey\n",
      "cute\n",
      "True\n",
      "N/A\n",
      "N/A\n",
      "N/A\n",
      "A person has 2 legs\n",
      "A cat has 4 legs\n",
      "A spider has 8 legs\n",
      "{0: 0, 2: 4, 4: 16}\n",
      "True\n",
      "3\n",
      "3\n",
      "2\n",
      "<class 'tuple'>\n",
      "5\n",
      "1\n"
     ]
    }
   ],
   "source": [
    "## List 列表\n",
    "xs = [3, 1, 2]\n",
    "print (xs[-1])\n",
    "xs.append('bar')\n",
    "print (xs)\n",
    "\n",
    "x = xs.pop() # Remove and return the last element of the list\n",
    "print (x, xs)\n",
    "\n",
    "nums = list(range(5))\n",
    "print (nums[:])\n",
    "\n",
    "animals = ['cat', 'dog', 'mokey']\n",
    "for idx, animal in enumerate(animals):\n",
    "    print ('#%d: %s' % (idx + 1, animal))\n",
    "    \n",
    "    \n",
    "## Dictionaries 字典\n",
    "d = {'cat': 'cute', 'dog': 'furry'} # Create a new dictionary with some data\n",
    "print(d['cat']) # Get an entry from a dictionary; prints \"cute\"\n",
    "print('cat' in d) # Check if a dictionary has a given key; prints \"True\"\n",
    "# print(d['monkey']) # KeyError: 'monkey' not a key of d\n",
    "print(d.get('monkey', 'N/A')) # Get an element with a default; prints \"N/A\"\n",
    "print(d.get('fish', 'N/A')) # Get an element with a default; prints \"wet\"\n",
    "del d['cat'] # Remove an element from a dictionary\n",
    "print(d.get('fish', 'N/A')) # \"fish\" is no longer a key; prints \"N/A\"\n",
    "\n",
    "d = {'person': 2, 'cat': 4, 'spider': 8}\n",
    "for animal, legs in d.items():\n",
    "    print('A %s has %d legs' % (animal, legs))\n",
    "    \n",
    "nums = [0, 1, 2, 3, 4]\n",
    "even_num_to_square = {x: x ** 2 for x in nums if x % 2 == 0}\n",
    "print(even_num_to_square) # Prints \"{0: 0, 2: 4, 4: 16}\"\n",
    "\n",
    "\n",
    "## Sets 集合\n",
    "animals = {'cat', 'dog'}\n",
    "animals.add('fish') # Add an element to a set\n",
    "print('fish' in animals) # Prints \"True\"\n",
    "print(len(animals)) # Number of elements in a set; prints \"3\"\n",
    "animals.add('cat') # Adding an element that is already in the set does nothing\n",
    "print(len(animals)) # Prints \"3\"\n",
    "animals.remove('cat') # Remove an element from a set\n",
    "print(len(animals)) # Prints \"2\n",
    "\n",
    "## Tuples 元组\n",
    "d = {(x, x + 1): x for x in range(10)} # Create a dictionary with tuple keys\n",
    "t = (5, 6) # Create a tuple\n",
    "print(type(t)) # Prints \"<class 'tuple'>\"\n",
    "print(d[t]) # Prints \"5\"\n",
    "print(d[(1, 2)]) # Prints \"1\""
   ]
  },
  {
   "cell_type": "markdown",
   "metadata": {},
   "source": [
    "## Functions"
   ]
  },
  {
   "cell_type": "code",
   "execution_count": 4,
   "metadata": {},
   "outputs": [
    {
     "name": "stdout",
     "output_type": "stream",
     "text": [
      "negative\n",
      "zero\n",
      "positive\n"
     ]
    }
   ],
   "source": [
    "def sign(x):\n",
    "    if x > 0:\n",
    "        return 'positive'\n",
    "    elif x < 0:\n",
    "        return 'negative'\n",
    "    else:\n",
    "        return 'zero'\n",
    "for x in [-1, 0, 1]:\n",
    "    print(sign(x))\n",
    "# Prints \"negative\", \"zero\", \"positive\""
   ]
  },
  {
   "cell_type": "markdown",
   "metadata": {},
   "source": [
    "## Classes"
   ]
  },
  {
   "cell_type": "code",
   "execution_count": 5,
   "metadata": {},
   "outputs": [
    {
     "name": "stdout",
     "output_type": "stream",
     "text": [
      "Hello, Fred\n",
      "HELLO, FRED!\n"
     ]
    }
   ],
   "source": [
    "class Greeter(object):\n",
    "    # Constructor\n",
    "    def __init__(self, name):\n",
    "        self.name = name # Create an instance variable\n",
    "    # Instance method\n",
    "    def greet(self, loud=False):\n",
    "        if loud:\n",
    "            print('HELLO, %s!' % self.name.upper())\n",
    "        else:\n",
    "            print('Hello, %s' % self.name)\n",
    "g = Greeter('Fred') # Construct an instance of the Greeter class\n",
    "g.greet() # Call an instance method; prints \"Hello, Fred\"\n",
    "g.greet(loud=True) # Call an instance method; prints \"HELLO, FRED!\""
   ]
  },
  {
   "cell_type": "markdown",
   "metadata": {},
   "source": [
    "## Numpy"
   ]
  },
  {
   "cell_type": "code",
   "execution_count": 6,
   "metadata": {},
   "outputs": [
    {
     "name": "stdout",
     "output_type": "stream",
     "text": [
      "<class 'numpy.ndarray'>\n",
      "(3,)\n",
      "(2, 3)\n",
      "1 2 4\n",
      "[[ 0.  0.]\n",
      " [ 0.  0.]]\n",
      "[[ 1.  1.]]\n",
      "[[7 7]\n",
      " [7 7]]\n",
      "[[ 1.  0.]\n",
      " [ 0.  1.]]\n",
      "[[ 0.92370428  0.28433509]\n",
      " [ 0.48060374  0.31405174]]\n",
      "(2, 2)\n",
      "[5 6 7 8] (4,)\n",
      "[[5 6 7 8]] (1, 4)\n",
      "[1 4 5]\n",
      "[[False False]\n",
      " [ True  True]\n",
      " [ True  True]]\n",
      "[3 4 5 6]\n",
      "[3 4 5 6]\n",
      "int64\n",
      "float64\n",
      "int64\n"
     ]
    }
   ],
   "source": [
    "import numpy as np\n",
    "\n",
    "## Arrays\n",
    "a = np.array([1, 2, 3]) # Create a rank 1 array\n",
    "print(type(a)) # Prints \"<class 'numpy.ndarray'>\"\n",
    "print(a.shape) # Prints \"(3,)\"\n",
    "b = np.array([[1,2,3],[4,5,6]]) # Create a rank 2 array\n",
    "print(b.shape) # Prints \"(2, 3)\"\n",
    "print(b[0, 0], b[0, 1], b[1, 0]) # Prints \"1 2 4\"\n",
    "\n",
    "a = np.zeros((2,2)) # Create an array of all zeros\n",
    "print(a) # Prints \"[[ 0. 0.]\n",
    "         # [ 0. 0.]]\"\n",
    "b = np.ones((1,2)) # Create an array of all ones\n",
    "print(b) # Prints \"[[ 1. 1.]]\"\n",
    "c = np.full((2,2), 7) # Create a constant array\n",
    "print(c) # Prints \"[[ 7. 7.]\n",
    "         # [ 7. 7.]]\"\n",
    "d = np.eye(2) # Create a 2x2 identity matrix\n",
    "print(d) # Prints \"[[ 1. 0.]\n",
    "         # [ 0. 1.]]\"\n",
    "e = np.random.random((2,2))\n",
    "print(e) \n",
    "print (e.shape)\n",
    "\n",
    "a = np.array([[1,2,3,4], [5,6,7,8], [9,10,11,12]])\n",
    "# Two ways of accessing the data in the middle row of the array.\n",
    "# Mixing integer indexing with slices yields an array of lower rank,\n",
    "# while using only slices yields an array of the same rank as the\n",
    "# original array:\n",
    "row_r1 = a[1, :] # Rank 1 view of the second row of a\n",
    "row_r2 = a[1:2, :] # Rank 2 view of the second row of a\n",
    "print(row_r1, row_r1.shape) # Prints \"[5 6 7 8] (4,)\"\n",
    "print(row_r2, row_r2.shape) # Prints \"[[5 6 7 8]] (1, 4)\"\n",
    "\n",
    "## Integer array indexing\n",
    "a = np.array([[1,2], [3, 4], [5, 6]])\n",
    "# An example of integer array indexing.\n",
    "# The returned array will have shape (3,) and\n",
    "print(a[[0, 1, 2], [0, 1, 0]]) # Prints \"[1 4 5]\"\n",
    "\n",
    "## Boolean array indexing\n",
    "a = np.array([[1,2], [3, 4], [5, 6]])\n",
    "bool_idx = (a > 2) # Find the elements of a that are bigger than 2;\n",
    "# this returns a numpy array of Booleans of the same\n",
    "# shape as a, where each slot of bool_idx tells\n",
    "# whether that element of a is > 2.\n",
    "print(bool_idx) # Prints \"[[False False]\n",
    "            # [ True True]\n",
    "            # [ True True]]\"\n",
    "# We use boolean array indexing to construct a rank 1 array\n",
    "# consisting of the elements of a corresponding to the True values\n",
    "# of bool_idx\n",
    "print(a[bool_idx]) # Prints \"[3 4 5 6]\"\n",
    "# We can do all of the above in a single concise statement:\n",
    "print(a[a > 2]) # Prints \"[3 4 5 6]\"\n",
    "\n",
    "## Datatypes\n",
    "x = np.array([1, 2]) # Let numpy choose the datatype\n",
    "print(x.dtype) # Prints \"int64\"\n",
    "x = np.array([1.0, 2.0]) # Let numpy choose the datatype\n",
    "print(x.dtype) # Prints \"float64\"\n",
    "x = np.array([1, 2], dtype=np.int64) # Force a particular datatype\n",
    "print(x.dtype) # Prints \"int64\""
   ]
  },
  {
   "cell_type": "code",
   "execution_count": 7,
   "metadata": {},
   "outputs": [
    {
     "name": "stdout",
     "output_type": "stream",
     "text": [
      "[[  6.   8.]\n",
      " [ 10.  12.]]\n",
      "[[  6.   8.]\n",
      " [ 10.  12.]]\n",
      "[[-4. -4.]\n",
      " [-4. -4.]]\n",
      "[[-4. -4.]\n",
      " [-4. -4.]]\n",
      "[[  5.  12.]\n",
      " [ 21.  32.]]\n",
      "[[  5.  12.]\n",
      " [ 21.  32.]]\n",
      "[[ 0.2         0.33333333]\n",
      " [ 0.42857143  0.5       ]]\n",
      "[[ 0.2         0.33333333]\n",
      " [ 0.42857143  0.5       ]]\n",
      "[[ 1.          1.41421356]\n",
      " [ 1.73205081  2.        ]]\n",
      "219\n",
      "219\n",
      "[29 67]\n",
      "[29 67]\n",
      "[[19 22]\n",
      " [43 50]]\n",
      "[[19 22]\n",
      " [43 50]]\n",
      "10\n",
      "[4 6]\n",
      "[3 7]\n",
      "[[1 2]\n",
      " [3 4]]\n",
      "[[1 3]\n",
      " [2 4]]\n",
      "[1 2 3]\n",
      "[1 2 3]\n"
     ]
    }
   ],
   "source": [
    "## Array math\n",
    "import numpy as np\n",
    "x = np.array([[1,2],[3,4]], dtype=np.float64)\n",
    "y = np.array([[5,6],[7,8]], dtype=np.float64)\n",
    "# 都是对应元素相操作\n",
    "print(x + y)\n",
    "print(np.add(x, y))\n",
    "print(x - y)\n",
    "print(np.subtract(x, y))\n",
    "print(x * y)\n",
    "print(np.multiply(x, y))\n",
    "print(x / y)\n",
    "print(np.divide(x, y))\n",
    "print(np.sqrt(x))\n",
    "\n",
    "x = np.array([[1,2],[3,4]])\n",
    "y = np.array([[5,6],[7,8]])\n",
    "v = np.array([9,10])\n",
    "w = np.array([11, 12])\n",
    "# Inner product of vectors; both produce 219\n",
    "print(v.dot(w))\n",
    "print(np.dot(v, w))\n",
    "# Matrix / vector product; both produce the rank 1 array [29 67]\n",
    "print(x.dot(v))\n",
    "print(np.dot(x, v))\n",
    "# Matrix / matrix product; both produce the rank 2 array\n",
    "# [[19 22]\n",
    "# [43 50]]\n",
    "print(x.dot(y))\n",
    "print(np.dot(x, y))\n",
    "\n",
    "x = np.array([[1,2],[3,4]])\n",
    "print(np.sum(x)) # Compute sum of all elements; prints \"10\"\n",
    "print(np.sum(x, axis=0)) # Compute sum of each column; prints \"[4 6]\"\n",
    "print(np.sum(x, axis=1)) # Compute sum of each row; prints \"[3 7]\"\n",
    "\n",
    "x = np.array([[1,2], [3,4]])\n",
    "print(x) # Prints \"[[1 2]\n",
    "# [3 4]]\"\n",
    "print(x.T) # Prints \"[[1 3]\n",
    "# [2 4]]\"\n",
    "# Note that taking the transpose of a rank 1 array does nothing:\n",
    "v = np.array([1,2,3])\n",
    "print(v) # Prints \"[1 2 3]\"\n",
    "print(v.T) # Prints \"[1 2 3]\""
   ]
  },
  {
   "cell_type": "code",
   "execution_count": 8,
   "metadata": {},
   "outputs": [
    {
     "name": "stdout",
     "output_type": "stream",
     "text": [
      "(1, 3)\n",
      "[[ 2  2  4]\n",
      " [ 5  5  7]\n",
      " [ 8  8 10]\n",
      " [11 11 13]]\n",
      "[[ 5  6  7]\n",
      " [ 9 10 11]]\n"
     ]
    }
   ],
   "source": [
    "## Broadcasting\n",
    "# We will add the vector v to each row of the matrix x,\n",
    "# storing the result in the matrix y\n",
    "x = np.array([[1,2,3], [4,5,6], [7,8,9], [10, 11, 12]])\n",
    "v = np.array([1, 0, 1])\n",
    "v = v.reshape((1,3))\n",
    "print (v.shape)\n",
    "y = x + v # Add v to each row of x using broadcasting\n",
    "print(y) # Prints \"[[ 2 2 4]\n",
    "                # [ 5 5 7]\n",
    "                # [ 8 8 10]\n",
    "                # [11 11 13]]\"\n",
    "            \n",
    "# Compute outer product of vectors\n",
    "v = np.array([1,2]) # v has shape (3,)\n",
    "w = np.array([4,5]) # w has shape (2,)\n",
    "x = np.array([[1,2,3], [4,5,6]])\n",
    "print(x + np.reshape(w, (2, 1)))"
   ]
  },
  {
   "cell_type": "markdown",
   "metadata": {},
   "source": [
    "## Matplotlib"
   ]
  },
  {
   "cell_type": "code",
   "execution_count": 9,
   "metadata": {},
   "outputs": [
    {
     "data": {
      "text/plain": [
       "<matplotlib.figure.Figure at 0x7fc7b5faaf98>"
      ]
     },
     "metadata": {},
     "output_type": "display_data"
    }
   ],
   "source": [
    "import numpy as np\n",
    "import matplotlib.pyplot as plt\n",
    "# Compute the x and y coordinates for points on sine and cosine curves\n",
    "x = np.arange(0, 3 * np.pi, 0.1)\n",
    "y_sin = np.sin(x)\n",
    "y_cos = np.cos(x)\n",
    "# Plot the points using matplotlib\n",
    "plt.plot(x, y_sin)\n",
    "plt.plot(x, y_cos)\n",
    "plt.xlabel('x axis label')\n",
    "plt.ylabel('y axis label')\n",
    "plt.title('Sine and Cosine')\n",
    "plt.legend(['Sine', 'Cosine'])\n",
    "plt.show()"
   ]
  }
 ],
 "metadata": {
  "kernelspec": {
   "display_name": "Python 3",
   "language": "python",
   "name": "python3"
  },
  "language_info": {
   "codemirror_mode": {
    "name": "ipython",
    "version": 3
   },
   "file_extension": ".py",
   "mimetype": "text/x-python",
   "name": "python",
   "nbconvert_exporter": "python",
   "pygments_lexer": "ipython3",
   "version": "3.5.4"
  }
 },
 "nbformat": 4,
 "nbformat_minor": 2
}
