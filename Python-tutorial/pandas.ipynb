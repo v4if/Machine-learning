{
 "cells": [
  {
   "cell_type": "markdown",
   "metadata": {},
   "source": [
    "对于一个DataFrame A，A.loc[k]是读取A中index为k的那一行。A.iloc[k]是读取A中的第k行。\n",
    "假设下面的DataFrame叫A    \n",
    "```python\n",
    "A\n",
    "      Name    Age\n",
    "\n",
    "1     Tom      20\n",
    "\n",
    "3     Tony    19\n",
    "\n",
    "4     Jim      22\n",
    "```\n",
    "\n",
    "```python\n",
    ">>> A.loc[3]\n",
    "\n",
    "Tony    19\n",
    "\n",
    ">>>A.iloc[0]\n",
    "\n",
    "Tom    20\n",
    "\n",
    ">>>A.iloc[1]\n",
    "\n",
    "Tony    19\n",
    "```\n",
    "\n",
    "A.loc[0]和A.loc[2]被报错，没有index里没有0和2。同样，A.iloc[3]也会报错，因为这里只有3行，iloc只能取到0，1，2."
   ]
  },
  {
   "cell_type": "markdown",
   "metadata": {},
   "source": [
    "fillna函数可以通过两种方式“填充”NA值与非空数据，我们说明：\n",
    "\n",
    "将NA替换为标量值\n",
    "\n",
    "```python\n",
    "In [36]: df2\n",
    "Out[36]: \n",
    "        one       two     three four   five  timestamp\n",
    "a       NaN -0.282863 -1.509059  bar   True        NaT\n",
    "c       NaN  1.212112 -0.173215  bar  False        NaT\n",
    "e  0.119209 -1.044236 -0.861849  bar   True 2012-01-01\n",
    "f -2.104569 -0.494929  1.071804  bar  False 2012-01-01\n",
    "h       NaN -0.706771 -1.039575  bar   True        NaT\n",
    "\n",
    "In [37]: df2.fillna(0)\n",
    "Out[37]: \n",
    "        one       two     three four   five  timestamp\n",
    "a  0.000000 -0.282863 -1.509059  bar   True 1970-01-01\n",
    "c  0.000000  1.212112 -0.173215  bar  False 1970-01-01\n",
    "e  0.119209 -1.044236 -0.861849  bar   True 2012-01-01\n",
    "f -2.104569 -0.494929  1.071804  bar  False 2012-01-01\n",
    "h  0.000000 -0.706771 -1.039575  bar   True 1970-01-01\n",
    "\n",
    "In [38]: df2['four'].fillna('missing')\n",
    "Out[38]: \n",
    "a    bar\n",
    "c    bar\n",
    "e    bar\n",
    "f    bar\n",
    "h    bar\n",
    "Name: four, dtype: object\n",
    "```"
   ]
  }
 ],
 "metadata": {
  "kernelspec": {
   "display_name": "Python 3",
   "language": "python",
   "name": "python3"
  },
  "language_info": {
   "codemirror_mode": {
    "name": "ipython",
    "version": 3
   },
   "file_extension": ".py",
   "mimetype": "text/x-python",
   "name": "python",
   "nbconvert_exporter": "python",
   "pygments_lexer": "ipython3",
   "version": "3.5.4"
  }
 },
 "nbformat": 4,
 "nbformat_minor": 2
}
